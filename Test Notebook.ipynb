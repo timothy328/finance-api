{
 "cells": [
  {
   "cell_type": "code",
   "execution_count": 3,
   "metadata": {},
   "outputs": [],
   "source": [
    "# !pip install shap"
   ]
  },
  {
   "cell_type": "code",
   "execution_count": 100,
   "metadata": {},
   "outputs": [
    {
     "name": "stdout",
     "output_type": "stream",
     "text": [
      "Python Version: 3.11.3 (v3.11.3:f3909b8bc8, Apr  4 2023, 20:12:10) [Clang 13.0.0 (clang-1300.0.29.30)]\n",
      "pd 2.0.1\n",
      "np 1.24.3\n",
      "sns 0.12.2\n",
      "json 2.0.9\n",
      "shap 0.46.0\n",
      "yfinance 0.2.18\n",
      "requests 2.30.0\n",
      "pytest 8.2.2\n"
     ]
    }
   ],
   "source": [
    "import pandas as pd\n",
    "import numpy as np\n",
    "import matplotlib.pyplot as plt\n",
    "import seaborn as sns\n",
    "import datetime as dt\n",
    "\n",
    "\n",
    "import sys\n",
    "import os\n",
    "import json\n",
    "\n",
    "import shap\n",
    "import yfinance\n",
    "import requests\n",
    "import pytest\n",
    "\n",
    "print('Python Version:', sys.version)\n",
    "print('pd', pd.__version__)\n",
    "print('np', np.__version__)\n",
    "print('sns', sns.__version__)\n",
    "print('json', json.__version__)\n",
    "print('shap', shap.__version__)\n",
    "print('yfinance', yfinance.__version__)\n",
    "print('requests', requests.__version__)\n",
    "print('pytest', pytest.__version__)\n"
   ]
  },
  {
   "cell_type": "code",
   "execution_count": 107,
   "metadata": {},
   "outputs": [
    {
     "name": "stdout",
     "output_type": "stream",
     "text": [
      "-0.13496552581809196\n"
     ]
    }
   ],
   "source": [
    "import random\n",
    "\n",
    "def get_random_decimal():\n",
    "  \"\"\"Generates a random decimal number between -1 and 1 (inclusive).\"\"\"\n",
    "  return random.uniform(-1, 1)\n",
    "\n",
    "# This line is optional if you want to test the function directly in the script\n",
    "result = get_random_decimal()\n",
    "print(result)"
   ]
  },
  {
   "cell_type": "code",
   "execution_count": null,
   "metadata": {},
   "outputs": [],
   "source": [
    "# terminal command: python app/app.py --debug"
   ]
  },
  {
   "cell_type": "code",
   "execution_count": 109,
   "metadata": {},
   "outputs": [
    {
     "name": "stdout",
     "output_type": "stream",
     "text": [
      "<Response [200]>\n",
      "58.50924078360433\n"
     ]
    }
   ],
   "source": [
    "url = 'http://127.0.0.1:5000/random_decimal'\n",
    "response = requests.get(url)\n",
    "print(response)\n",
    "data = response.json()  # Parse the JSON response\n",
    "\n",
    "random_number = data['random_decimal']\n",
    "print(random_number)\n"
   ]
  },
  {
   "cell_type": "code",
   "execution_count": 112,
   "metadata": {},
   "outputs": [
    {
     "name": "stdout",
     "output_type": "stream",
     "text": [
      "<Response [200]>\n",
      "6.751454728323525\n"
     ]
    }
   ],
   "source": [
    "url = 'http://127.0.0.1:5000/multiply_and_add'\n",
    "data = {'x': -2.5, 'y': -3.1, 'z': random.uniform(-1, 1)}  # Dictionary with arguments\n",
    "headers = {'Content-type': 'application/json'}  # Set content type header\n",
    "\n",
    "response = requests.post(url, json=data, headers=headers)\n",
    "print(response)\n",
    "response.raise_for_status()  # Raise exception for non-200 status codes\n",
    "\n",
    "data = response.json()\n",
    "result = data['result']\n",
    "print(result)"
   ]
  },
  {
   "cell_type": "code",
   "execution_count": null,
   "metadata": {},
   "outputs": [],
   "source": []
  }
 ],
 "metadata": {
  "kernelspec": {
   "display_name": "Python 3",
   "language": "python",
   "name": "python3"
  },
  "language_info": {
   "codemirror_mode": {
    "name": "ipython",
    "version": 3
   },
   "file_extension": ".py",
   "mimetype": "text/x-python",
   "name": "python",
   "nbconvert_exporter": "python",
   "pygments_lexer": "ipython3",
   "version": "3.11.3"
  }
 },
 "nbformat": 4,
 "nbformat_minor": 2
}
