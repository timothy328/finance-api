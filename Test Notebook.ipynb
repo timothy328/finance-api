{
 "cells": [
  {
   "cell_type": "code",
   "execution_count": 3,
   "metadata": {},
   "outputs": [],
   "source": [
    "# !pip install shap"
   ]
  },
  {
   "cell_type": "code",
   "execution_count": 11,
   "metadata": {},
   "outputs": [
    {
     "name": "stdout",
     "output_type": "stream",
     "text": [
      "Python Version: 3.11.3 (v3.11.3:f3909b8bc8, Apr  4 2023, 20:12:10) [Clang 13.0.0 (clang-1300.0.29.30)]\n",
      "pd 2.0.1\n",
      "np 1.24.3\n",
      "sns 0.12.2\n",
      "json 2.0.9\n",
      "shap 0.46.0\n",
      "yfinance 0.2.18\n",
      "requests 2.30.0\n"
     ]
    }
   ],
   "source": [
    "import pandas as pd\n",
    "import numpy as np\n",
    "import matplotlib.pyplot as plt\n",
    "import seaborn as sns\n",
    "import datetime as dt\n",
    "\n",
    "\n",
    "import sys\n",
    "import os\n",
    "import json\n",
    "\n",
    "import shap\n",
    "import yfinance\n",
    "import requests\n",
    "\n",
    "print('Python Version:', sys.version)\n",
    "print('pd', pd.__version__)\n",
    "print('np', np.__version__)\n",
    "print('sns', sns.__version__)\n",
    "print('json', json.__version__)\n",
    "print('shap', shap.__version__)\n",
    "print('yfinance', yfinance.__version__)\n",
    "print('requests', requests.__version__)\n"
   ]
  },
  {
   "cell_type": "code",
   "execution_count": 9,
   "metadata": {},
   "outputs": [
    {
     "name": "stdout",
     "output_type": "stream",
     "text": [
      "-0.5977346161143346\n"
     ]
    }
   ],
   "source": [
    "import random\n",
    "\n",
    "def get_random_decimal():\n",
    "  \"\"\"Generates a random decimal number between -1 and 1 (inclusive).\"\"\"\n",
    "  return random.uniform(-1, 1)\n",
    "\n",
    "# This line is optional if you want to test the function directly in the script\n",
    "result = get_random_decimal()\n",
    "print(result)"
   ]
  },
  {
   "cell_type": "code",
   "execution_count": 13,
   "metadata": {},
   "outputs": [
    {
     "name": "stdout",
     "output_type": "stream",
     "text": [
      " * Serving Flask app 'test_script'\n",
      " * Debug mode: on\n",
      "\u001b[31m\u001b[1mWARNING: This is a development server. Do not use it in a production deployment. Use a production WSGI server instead.\u001b[0m\n",
      " * Running on http://127.0.0.1:5000\n",
      "\u001b[33mPress CTRL+C to quit\u001b[0m\n",
      " * Restarting with watchdog (fsevents)\n",
      " * Debugger is active!\n",
      " * Debugger PIN: 649-012-687\n",
      "127.0.0.1 - - [03/Jul/2024 21:24:45] \"\u001b[33mGET / HTTP/1.1\u001b[0m\" 404 -\n",
      "127.0.0.1 - - [03/Jul/2024 21:24:45] \"\u001b[33mGET /favicon.ico HTTP/1.1\u001b[0m\" 404 -\n",
      "127.0.0.1 - - [03/Jul/2024 21:24:48] \"\u001b[33mGET / HTTP/1.1\u001b[0m\" 404 -\n",
      "127.0.0.1 - - [03/Jul/2024 21:25:09] \"GET /random_decimal HTTP/1.1\" 200 -\n",
      "127.0.0.1 - - [03/Jul/2024 21:26:58] \"\u001b[33mGET / HTTP/1.1\u001b[0m\" 404 -\n",
      "127.0.0.1 - - [03/Jul/2024 21:27:04] \"GET /random_decimal HTTP/1.1\" 200 -\n",
      " * Detected change in '/Users/timothychin/PycharmProjects/finance-api/test_script.py', reloading\n",
      " * Restarting with watchdog (fsevents)\n",
      " * Debugger is active!\n",
      " * Debugger PIN: 649-012-687\n",
      "127.0.0.1 - - [03/Jul/2024 21:27:36] \"GET /random_decimal HTTP/1.1\" 200 -\n",
      "^C\n"
     ]
    }
   ],
   "source": [
    "!python test_script.py"
   ]
  },
  {
   "cell_type": "code",
   "execution_count": null,
   "metadata": {},
   "outputs": [],
   "source": []
  },
  {
   "cell_type": "code",
   "execution_count": 67,
   "metadata": {},
   "outputs": [
    {
     "name": "stdout",
     "output_type": "stream",
     "text": [
      "<Response [200]>\n",
      "96.75181066436195\n"
     ]
    }
   ],
   "source": [
    "url = 'http://127.0.0.1:5000/random_decimal'\n",
    "response = requests.get(url)\n",
    "print(response)\n",
    "data = response.json()  # Parse the JSON response\n",
    "\n",
    "random_number = data['random_decimal']\n",
    "print(random_number)\n"
   ]
  },
  {
   "cell_type": "code",
   "execution_count": 74,
   "metadata": {},
   "outputs": [
    {
     "name": "stdout",
     "output_type": "stream",
     "text": [
      "9.099\n"
     ]
    }
   ],
   "source": [
    "url = 'http://127.0.0.1:5000/multiply_and_add'\n",
    "data = {'x': -2.59, 'y': -3.1, 'z': 1.07}  # Dictionary with arguments\n",
    "headers = {'Content-type': 'application/json'}  # Set content type header\n",
    "\n",
    "response = requests.post(url, json=data, headers=headers)\n",
    "response.raise_for_status()  # Raise exception for non-200 status codes\n",
    "\n",
    "data = response.json()\n",
    "result = data['result']\n",
    "print(result)"
   ]
  },
  {
   "cell_type": "code",
   "execution_count": null,
   "metadata": {},
   "outputs": [],
   "source": []
  }
 ],
 "metadata": {
  "kernelspec": {
   "display_name": "Python 3",
   "language": "python",
   "name": "python3"
  },
  "language_info": {
   "codemirror_mode": {
    "name": "ipython",
    "version": 3
   },
   "file_extension": ".py",
   "mimetype": "text/x-python",
   "name": "python",
   "nbconvert_exporter": "python",
   "pygments_lexer": "ipython3",
   "version": "3.11.3"
  }
 },
 "nbformat": 4,
 "nbformat_minor": 2
}
